{
  "nbformat": 4,
  "nbformat_minor": 0,
  "metadata": {
    "colab": {
      "provenance": []
    },
    "kernelspec": {
      "name": "python3",
      "display_name": "Python 3"
    },
    "language_info": {
      "name": "python"
    }
  },
  "cells": [
    {
      "cell_type": "markdown",
      "source": [
        "Q1"
      ],
      "metadata": {
        "id": "E8Hhx3YbCu0j"
      }
    },
    {
      "cell_type": "code",
      "source": [
        "# Mount Google Drive\n",
        "from google . colab import drive\n",
        "drive.mount('/content/drive')"
      ],
      "metadata": {
        "colab": {
          "base_uri": "https://localhost:8080/"
        },
        "id": "5BvkU110CwsF",
        "outputId": "67b38406-6b41-4c0f-ed30-77f3763767ab"
      },
      "execution_count": 13,
      "outputs": [
        {
          "output_type": "stream",
          "name": "stdout",
          "text": [
            "Mounted at /content/drive\n"
          ]
        }
      ]
    },
    {
      "cell_type": "code",
      "source": [
        "s = input(\"Enter the string: \") #input of string\n",
        "rs = s[::-1]\n",
        "print(rs[2:]) #Reverse\n",
        "\n",
        "x1, x2 = map(int, input(\"Enter two numbers separated by a space: \").split())\n",
        "\n",
        "print(f\"Sum: {x1+x2}\")\n",
        "print(f\"Sub: {x1-x2}\")\n",
        "print(f\"Mul: {x1*x2}\")\n",
        "print(f\"Div: {x1/x2}\")"
      ],
      "metadata": {
        "colab": {
          "base_uri": "https://localhost:8080/"
        },
        "id": "pbrzfaBpDBeL",
        "outputId": "cdc3dda2-d15b-4045-ce7f-cfe1cb422214"
      },
      "execution_count": 25,
      "outputs": [
        {
          "output_type": "stream",
          "name": "stdout",
          "text": [
            "Enter the string: Bunny\n",
            "nuB\n",
            "Enter two numbers separated by a space: 5 3\n",
            "Sum: 8\n",
            "Sub: 2\n",
            "Mul: 15\n",
            "Div: 1.6666666666666667\n"
          ]
        }
      ]
    },
    {
      "cell_type": "code",
      "source": [
        "s = input(\"Enter the string: \") #input string\n",
        "print(s.replace('python','pythons')) #replace method"
      ],
      "metadata": {
        "colab": {
          "base_uri": "https://localhost:8080/"
        },
        "id": "wi8J3IGPIdCq",
        "outputId": "7c10ea6b-e0e5-4c02-842c-55dc16bbe273"
      },
      "execution_count": 21,
      "outputs": [
        {
          "output_type": "stream",
          "name": "stdout",
          "text": [
            "Enter the string: python\n",
            "pythons\n"
          ]
        }
      ]
    },
    {
      "cell_type": "code",
      "source": [
        "score = int(input(\"Enter Marks: \"))\n",
        "if score >= 90:\n",
        "  print(\"Grade A\")\n",
        "elif score >= 80:\n",
        "  print(\"Grade B\")\n",
        "elif score >= 70:\n",
        "  print(\"Grade C\")\n",
        "elif score >= 60:\n",
        "  print(\"Grade D\")\n",
        "else:\n",
        "  print(\"Grade F\")"
      ],
      "metadata": {
        "colab": {
          "base_uri": "https://localhost:8080/"
        },
        "id": "EjOnM_ElImyD",
        "outputId": "7c138d47-1cc0-45ab-ceff-0843aa140e37"
      },
      "execution_count": 22,
      "outputs": [
        {
          "output_type": "stream",
          "name": "stdout",
          "text": [
            "Enter Marks: 99\n",
            "Grade A\n"
          ]
        }
      ]
    }
  ]
}